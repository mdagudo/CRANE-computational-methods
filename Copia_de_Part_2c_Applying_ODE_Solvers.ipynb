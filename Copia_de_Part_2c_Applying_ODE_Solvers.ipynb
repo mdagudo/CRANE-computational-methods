{
  "nbformat": 4,
  "nbformat_minor": 0,
  "metadata": {
    "colab": {
      "provenance": []
    },
    "kernelspec": {
      "name": "python3",
      "display_name": "Python 3"
    },
    "language_info": {
      "name": "python"
    }
  },
  "cells": [
    {
      "cell_type": "markdown",
      "source": [
        "# Numerical Methods Week 3: Built-in Python ODE Solvers\n",
        "### written by CRANE Co-leads\n",
        "\n",
        "Reminder: [Code of conduct](https://docs.google.com/presentation/d/1UiBbQLGCZ_8VTTufJGitjnfz2Lj12TzAPuvHLvRLMhk/edit?usp=sharing)\n",
        "\n",
        "\n",
        "\n",
        "---"
      ],
      "metadata": {
        "id": "U2RfKUmdXQEM"
      }
    },
    {
      "cell_type": "markdown",
      "source": [
        "Welcome back, students! Now that you know what Runge Kutta is and how to code it yourself, let's try using the built-in Python tools that utilize this method and others!\n",
        "\n",
        "<br>\n",
        "\n",
        "##**Goals**:\n",
        "\n",
        "*   Writing Modular Code\n",
        "*   Understanding Python library documentation\n",
        "*   Learn how to use pre-built ordinary differential equation (ODE) solvers for faster and more accurate results\n",
        "\n",
        "<br>\n"
      ],
      "metadata": {
        "id": "mtXOvc9ZjNDi"
      }
    },
    {
      "cell_type": "markdown",
      "source": [
        "#Using built-in Python Functions to solve ordinary differential equations (ODE)\n",
        "\n",
        "Let's use the SciPy library (scientific computing library) to solve an ordinary differential equation (ODE). We will mostly be using the [**`solve_ivp`**](https://docs.scipy.org/doc/scipy/reference/generated/scipy.integrate.solve_ivp.html) function within SciPy, where \"ivp\" stands for **initial value problem**.\n",
        "\n",
        "</br>\n",
        "\n",
        "**An *initial value problem* is a problem where we know the equations of motion and the starting point for the system. This is a very common numerical problem in physics.** Python comes with a few ways to easily solve initial value problems, but here we'll use the `scipy.integrate.solve_ivp` function. `solve_ivp` allows us to choose from many numerical integrators and ODE solvers such as the [trapezoid method](https://en.wikipedia.org/wiki/Trapezoidal_rule) for integration, and higher order Runge Kutta methods (i.e. RK45).\n",
        "\n",
        "<br>\n",
        "\n",
        "**`solve_ivp`** is designed to solve equations of the form\n",
        "&nbsp;\n",
        "\n",
        "$$\\begin{align}\n",
        "\\frac{dy}{dt} = f(t,y)\n",
        "\\end{align}$$\n",
        "\n",
        "&nbsp;\n",
        "\n",
        "where $y$ can be a vector of several variables, such as ($x$, $y$, $v_x$, $v_y$). When solving an initial value problem, we start with both an ODE (the equation above) and an initial data point (```t0```,```y0```) to solve from.\n",
        "\n",
        "</br>\n",
        "\n",
        "To solve, you need to write a function (```fun```)\n",
        ", specify a time range to solve the equations over (a starting time (```t0```) and ending time (```tf```)), and pick the initial conditions ```y0``` (the values of y at ```t0```).\n",
        "\n",
        "The below code imports the `solve_ivp` function, uses `solve_ivp` to get $y$, and then stores the solutions for $t$ and $y$ into two different arrays.\n",
        "\n",
        "```\n",
        "from scipy.integrate import solve_ivp\n",
        "results = solve_ivp(fun, (t0, tf), y0, method='RK45')\n",
        "t = results.t\n",
        "y = results.y\n",
        "```\n",
        "\n",
        "Here, the last two lines have gotten arrays for the solution of t and y, and can be used to plot the results. `solve_ivp` returns the solutions to variable $t$ and $y$ into one variable `results`. To unpack these solutions, we use `t = results.t` for example. **Remember that y is usuall a vector, so it will be an array of multiple values.**\n",
        "\n",
        "<br>\n",
        "\n",
        "If your function has any extra arguments, you can include them using the `solve_ivp` ```args``` option.\n",
        "```\n",
        "#e.g. if your function (fun) has the arguments (t, y, A, B, C), initial condition (y0), and start/end times (t0 and tf), you could use\n",
        "results = solve_ivp(fun, (t0, tf), y0, method='RK45', args=(A,B,C))\n",
        "```\n",
        "$\\tag{0}$\n",
        "\n",
        "The code is structured this way so you can apply it to any problem in a general way.To understand more about the options `solve_ivp` has, see the coding documentation here: https://docs.scipy.org/doc/scipy/reference/generated/scipy.integrate.solve_ivp.html\n",
        "\n",
        "Getting familiar with documentation like this is very important to using new python functions!\n",
        "\n",
        "\n",
        "It is good to have underlying knowledge of the algorithms and tools you need to solve problems. This knowledge allows you to use these ready-to-use tools to their full extent. **These built-in functions have many more options and are capable of solving much more difficult problems but require you to know the lingo and understand the underlying mechanisms.** Now let's do an actual example!\n",
        "\n",
        "\n",
        "<br>"
      ],
      "metadata": {
        "id": "G6WwXiu2izIk"
      }
    },
    {
      "cell_type": "markdown",
      "source": [
        "\n",
        "\n",
        "\n",
        "#Lets get started solving a differential equation using ```solve_ivp```.\n",
        "\n",
        "\n",
        "First, import ```solve_ivp``` and ```constants``` with our usual ```numpy``` and ```matplotlib```."
      ],
      "metadata": {
        "id": "Je5bWAAiizKa"
      }
    },
    {
      "cell_type": "code",
      "source": [
        "import numpy as np\n",
        "import matplotlib.pyplot as plt\n",
        "from scipy.integrate import solve_ivp\n",
        "from scipy import constants as CONSTANTS"
      ],
      "metadata": {
        "id": "a3EU3o2Rmi1J"
      },
      "execution_count": 1,
      "outputs": []
    },
    {
      "cell_type": "markdown",
      "source": [
        "##Project 1: Use SciPy `solve_ivp()` function to solve the driven-damped oscillator equation\n",
        "\n",
        "A great example of a driven-damped harmonic oscillator is a child being pushed on a swing. Air resistance (drag) will slow them down, so to keep them going we drive them by pushing!\n",
        "\n",
        "<p align=\"center\">\n",
        "  <img width=\"300\" src=\"https://img1.picmix.com/output/stamp/normal/3/5/9/2/1572953_d54a8.gif\">\n",
        "</p>\n",
        "\n",
        "The force F of in our driven-damped oscillator equation is:\n",
        "\n",
        "$$\\begin{align}\n",
        "F &= -k\\: ( x - x_{eq}) + \\beta v + A\\: cos(\\omega t) \\\\\n",
        "ma &=\n",
        "\\tag{1}\n",
        "\\end{align}$$\n",
        "\n",
        "<br>\n",
        "\n",
        "Where '$\\beta$' is our drag term, and '$A\\:cos(\\omega t)$' is an oscillating driving force with amplitude '$A$' and frequency '$\\omega$'.\n",
        "\n",
        "<br>\n",
        "\n",
        "To make this easier to solve, lets make this equation in terms of only x and t. Remember Newton's Law: $F=ma$, and that $a = dv/dt$. This gives us\n",
        "\n",
        "<br>\n",
        "\n",
        "$$\\begin{align}\n",
        "\\frac{d v}{dt} = -\\frac{k}{m}\\: ( x - x_{eq}) + \\frac{\\beta}{m} v + \\frac{A}{m}\\: cos(\\omega t)\n",
        "\\tag{2}\n",
        "\\end{align}$$\n",
        "\n",
        "we also know\n",
        "\n",
        "$$\\begin{align}\n",
        "\\frac{d x}{dt} = v\n",
        "\\tag{3}\n",
        "\\end{align}$$\n",
        "\n",
        "<br>\n",
        "\n",
        "Click on the [**solve_ivp**](https://docs.scipy.org/doc/scipy/reference/generated/scipy.integrate.solve_ivp.html) link to documentation and read through how to use it. Use Google to find examples on how to run the function. As computational scientists, it is important for you to learn how to read documentation and practice your google skills in order to use new algorithms.\n",
        "\n",
        "For example, googling \"scipy solve_ivp examples\" gives this link: https://pundit.pratt.duke.edu/wiki/Python:Ordinary_Differential_Equations\n",
        "\n",
        "<br>\n",
        "\n",
        "<br>\n",
        "<br>\n",
        "\n",
        "Now, lets solve this problem using the 'RK45' method and the following constants:\n",
        "\n",
        "$$k = 1.0$$\n",
        "\n",
        "$$m = 1.0$$\n",
        "\n",
        "$$x_{eq} = 1.0$$\n",
        "\n",
        "$$\\beta = -0.25$$\n",
        "\n",
        "$$A = 2.0$$\n",
        "\n",
        "$$\\omega = 2.0$$\n",
        "\n",
        "\n",
        "First, lets make a function for this damped driven oscillator equation, called `drivenf`. Use equations (2) and (3) to write `drivenf`. This is a function that will return $dx/dt$ and $dv/dt$ for a given time, position and velocity:\n",
        "\n",
        "NOTE: solve_ivp requires that the variables for the function you're solving ($x$ and $v$) are packed together (into $X$). So the input to `drivenf`, $X$, contains both $x$ and $v$."
      ],
      "metadata": {
        "id": "Q2jzDWuLzfIU"
      }
    },
    {
      "cell_type": "code",
      "source": [
        "def drivenf(t, X):\n",
        "  \"\"\" Function for damped driven oscillator equation. Returns array containing\n",
        "  velocity (dx/dt) and acceleration (dv/dt), given time, position, and velocity inputs.\n",
        "  Arguments:\n",
        "    t - time\n",
        "    X - array containing x and v\n",
        "  \"\"\"\n",
        "\n",
        "  # TODO: add code for our damped-driven oscillator equation\n",
        "  k = 1.0\n",
        "  m = 1.0\n",
        "  xeq = 1.0\n",
        "  b = -0.25\n",
        "  A = 2.0\n",
        "  w = 2.0\n",
        "  [x,v] = X # X contains both x and v\n",
        "\n",
        "  dxdt = v\n",
        "  dvdt = -(k/m)*(x - xeq) + (b/m)*v + (A/m)*np.cos(w*t)\n",
        "\n",
        "  return [dxdt,dvdt]"
      ],
      "metadata": {
        "id": "qHmuhpcKEX5C"
      },
      "execution_count": 2,
      "outputs": []
    },
    {
      "cell_type": "markdown",
      "source": [
        "Now, with our `drivenf` function, lets use the RK45 option in `solve_ivp` to solve the initial value problem `(x0, v0)=(2.0, 0.0)`. Review the documentation for `solve_ivp` to understand how the function works: https://docs.scipy.org/doc/scipy/reference/generated/scipy.integrate.solve_ivp.html\n",
        "\n",
        "See Lecture Notes for Part 2c for a description of how to use this documentation, and Equation (0) for a summary of the arguments.\n",
        "\n",
        "NOTE: Since the variables for `drivenf` ($x$ and $v$) are packed together (into X), we also need to pack the initial values for these variables together.  "
      ],
      "metadata": {
        "id": "G7ToJlgiEkqd"
      }
    },
    {
      "cell_type": "code",
      "source": [
        "# start and stop times\n",
        "t0 = 0\n",
        "tf = 40\n",
        "\n",
        "# initial values\n",
        "x0 = 2.0\n",
        "v0 = 0.0\n",
        "#TODO: pack initial values together\n",
        "X0 = [x0,v0]\n",
        "\n",
        "#TODO: enter arguments in solve_ivp to solve the drivenf equation\n",
        "sol = solve_ivp(drivenf, (t0, tf), X0, method='RK45') # smooth curve: max_steps = .01, rtol=1e-5"
      ],
      "metadata": {
        "id": "nLzutkZD4GVQ"
      },
      "execution_count": 3,
      "outputs": []
    },
    {
      "cell_type": "markdown",
      "source": [
        "plot your results"
      ],
      "metadata": {
        "id": "YgHHVmBqExt-"
      }
    },
    {
      "cell_type": "code",
      "source": [
        "fig,ax = plt.subplots()\n",
        "ax.plot(sol.t, sol.y[0], label = 'RK45')\n",
        "plt.xlabel('t')\n",
        "plt.ylabel('x')\n",
        "plt.legend()\n",
        "plt.show()"
      ],
      "metadata": {
        "id": "53r5uGsbE1R0",
        "colab": {
          "base_uri": "https://localhost:8080/",
          "height": 449
        },
        "outputId": "8d5b9841-2b01-46da-c5f0-e86607d2e36b"
      },
      "execution_count": 4,
      "outputs": [
        {
          "output_type": "display_data",
          "data": {
            "text/plain": [
              "<Figure size 640x480 with 1 Axes>"
            ],
            "image/png": "[encoded data removed]"
          },
          "metadata": {}
        }
      ]
    },
    {
      "cell_type": "markdown",
      "source": [
        "&nbsp;\n",
        "&nbsp;\n",
        "-------\n",
        "#**PAUSE HERE AND TAKE A BREAK!**\n",
        "-------\n",
        "\n",
        "&nbsp;"
      ],
      "metadata": {
        "id": "kXPWspABbgu8"
      }
    },
    {
      "cell_type": "markdown",
      "source": [
        "##  Problem 2: Solve Kepler's problem using \"Radau\" in `solve_ivp()`"
      ],
      "metadata": {
        "id": "mfNX7CPgja5g"
      }
    },
    {
      "cell_type": "markdown",
      "source": [
        "Another great example of a system to solve is an orbit! We will be proving Kepler's first law numerically at the end.\n",
        "\n",
        "<p align=\"center\">\n",
        "  <img width=\"300\" src=\"https://qph.cf2.quoracdn.net/main-qimg-c56f163dc353d14e09796cb150f2b695\">\n",
        "</p>\n",
        "\n",
        "<br>\n",
        "\n",
        "Let's consider two celestial bodies, maybe a star with a planet orbiting it. The force on a body of mass $m$ at distance $\\boldsymbol{\\mathrm{r}}$ from a body of mass $M$ at the origin is given by Newton's law\n",
        "\n",
        "<br>\n",
        "$$\\begin{align}\n",
        "\\boldsymbol{\\mathrm{F}}= -\\frac{GMm}{\\left|\\boldsymbol{r}\\right|^3}\\vec{r}\n",
        "\\tag{4}\n",
        "\\end{align}$$\n",
        "\n",
        "<br>\n",
        "\n",
        "In two dimensions, where $\\boldsymbol{\\vec{r}}=x\\boldsymbol{\\hat{\\imath}} + y \\boldsymbol{\\hat{\\jmath}}$ and $|\\boldsymbol{r}|=\\sqrt{x^2 + y^2}$, the components of the acceleration $\\boldsymbol{\\mathrm{a}}=a_x \\boldsymbol{\\hat{\\imath}} + a_y \\boldsymbol{\\hat{\\jmath}}$ are given by\n",
        "\n",
        "<br>\n",
        "\n",
        "$$\\begin{align}\n",
        " a_x = \\frac{\\mathrm{d}v_x}{\\mathrm{d}t} = - \\frac{GMx}{\\left(x^2 + y^2\\right)^{3/2}},\\quad a_y = \\frac{\\mathrm{d}v_y}{\\mathrm{d}t} = - \\frac{GMy}{\\left(x^2 + y^2\\right)^{3/2}}\n",
        "\\tag{5}\n",
        "\\end{align}$$\n",
        "\n",
        "<br>\n",
        "\n",
        "\n",
        "As with the previous exercise, we have to provide the function with three arguments to work (see <a href=\"https://docs.scipy.org/doc/scipy/reference/generated/scipy.integrate.solve_ivp.html#scipy.integrate.solve_ivp\">the documentation</a> for more). The first argument is a function $\\boldsymbol{\\mathrm{F}}(t,\\boldsymbol{\\mathrm{X}})$ which 'updates' the system, this is where the equations of motion are set. This function must take the time, and a *state vector* (for us, position and velocity), and then return the time derivative of the state vector's components. We'll call our state vector $\\boldsymbol{\\mathrm{X}}$, which just holds the current $x$ and $v$ of the planet. **This time, since we are interested in both the x and y coordinates, we will have two variables for each quantity we track**:\n",
        "\n",
        "<br>\n",
        "$$ \\boldsymbol{\\mathrm{X}} = \\left(x, y, v_x, v_y\\right) $$\n",
        "\n",
        "<br>\n",
        "\n",
        "So it follows that the function $\\boldsymbol{\\mathrm{F}}(t,\\boldsymbol{\\mathrm{X}})$ must return\n",
        "\n",
        "$$ \\boldsymbol{\\mathrm{F}}(t,\\boldsymbol{\\mathrm{X}}) = \\left(\\: v_x(t), v_y(t), a_x(t), a_y(t) \\: \\right)$$\n",
        "\n",
        "<br>\n",
        "\n",
        "The first two components are simply the last two components in the input. The last two components can be calculated from the acceleration equations above. The other arguments that `scipy.integrate.solve_ivp` requires is the initial state of the system $\\boldsymbol{\\mathrm{X}}_0$ and the time span over which to solve the equations.\n",
        "\n",
        "<br>\n",
        "\n",
        "A few tips:\n",
        "- You must set the <samp>method</samp> argument of <samp>solve_isp</samp> to <samp>\"Radau\"</samp> to get a stable solution.\n",
        "- Set the aregument <samp>t_eval</samp> to an array of time coordinates and the function will find $\\boldsymbol{\\mathrm{X}}$ at those time coordinates.\n",
        "- The output of solve_ivp is such that  $(x, y, v_x, v_y)$ values are stored in array at <samp>result.y</samp> for `result = solve_ivp(...)`"
      ],
      "metadata": {
        "id": "RP8hg0Lim2WD"
      }
    },
    {
      "cell_type": "markdown",
      "source": [
        "First let's setup the constants we’ll use throughout the problem. It’s best practice to name constants in ```ALL_CAPS```. In this context, we mean that constants are variables you would never change the value of. For example,  $\\pi = 3.14$."
      ],
      "metadata": {
        "id": "Em4BRb7Rp2D0"
      }
    },
    {
      "cell_type": "code",
      "execution_count": 5,
      "metadata": {
        "id": "HF_T8zvUisgt"
      },
      "outputs": [],
      "source": [
        "M_EARTH = 5.972E24   # Mass of the earth\n",
        "M_SUN = 1.98847E30   # Mass of the sun\n",
        "\n",
        "AU = CONSTANTS.astronomical_unit #Distance from the sun to the earth\n",
        "PI = CONSTANTS.pi\n",
        "GRAV = CONSTANTS.gravitational_constant\n",
        "YEAR = CONSTANTS.year"
      ]
    },
    {
      "cell_type": "markdown",
      "source": [
        "<br>\n",
        "\n",
        "To solve the problem numerically, let's start the solver with a body at $x=1\\,AU= 1.5*10^{11}$ m, $y=0$ and an initial velocity $35 *10^3$ m/s in the positive $y$ direction. We will later plot the $x$ and $y$ values and you should see an elliptical orbit. Make sure you run the simulation over a sensible time-scale, e.g. a few years."
      ],
      "metadata": {
        "id": "gG0xjR1m_xap"
      }
    },
    {
      "cell_type": "code",
      "source": [
        "# Initial state vector for the planet\n",
        "# X0 = (x0, y0, vx0, vy0)\n",
        "X2 = np.array([AU, 0.0, 0.0, 35.0E3])\n",
        "\n",
        "# Length of time to evaluate for in years\n",
        "n_years = 22\n",
        "\n",
        "# Time points at which to evaluate (using 100 points/year)\n",
        "t0 = 0.0\n",
        "tf = n_years *YEAR\n",
        "t_eval = np.linspace(0.0, tf, int(n_years * 100))"
      ],
      "metadata": {
        "id": "bc2FRerel6_-"
      },
      "execution_count": 6,
      "outputs": []
    },
    {
      "cell_type": "markdown",
      "source": [
        "### Task 1: Define function to calculate velocity and acceleration in an orbiting body using equation (5) above"
      ],
      "metadata": {
        "id": "vubkEVXU6HgF"
      }
    },
    {
      "cell_type": "code",
      "source": [
        "def orbit_eqn(t, X):\n",
        "  \"\"\" Solves for acceleration using Kepler's equations\n",
        "    Arguments:\n",
        "    t - time\n",
        "    X - array containing x, y, vx, vy\n",
        "  \"\"\"\n",
        "  # TODO: Get coordinates and velocity from input X\n",
        "  [x, y, vx, vy] = X\n",
        "\n",
        "  # TODO: Use equation (5) to calculate each component of acceleration\n",
        "  dxdt = vx\n",
        "  dydt = vy\n",
        "  dvxdt = - GRAV*M_SUN*x / (x**2 + y**2)**(3/2)\n",
        "  dvydt = - GRAV*M_SUN*y / (x**2 + y**2)**(3/2)\n",
        "\n",
        "  return [dxdt, dydt, dvxdt, dvydt]"
      ],
      "metadata": {
        "id": "yj2s7vCk6gvH"
      },
      "execution_count": 7,
      "outputs": []
    },
    {
      "cell_type": "markdown",
      "source": [
        "###Task 2: Use solve_ivp to solve the equations\n",
        "\n",
        "Remember to use t_eval above, and set the method to 'Radau'\n",
        "\n",
        "Show the difference in how the trajectory looks when solving the problem using **Radau** vs **RK45** after 10+ years"
      ],
      "metadata": {
        "id": "Cspjiyla7PM5"
      }
    },
    {
      "cell_type": "markdown",
      "source": [
        "#### Why **Radau**? Why not RK45?\n",
        "\n",
        "The **RK45** method is an **Explicit** method as mentioned in the documentation.\n",
        "\n",
        "The **Radau** Method is an **Implicit** method as mentioned in the documentation.\n",
        "\n",
        "Information on the differences can be found here: https://en.wikipedia.org/wiki/Explicit_and_implicit_methods\n",
        "\n",
        "</br>\n",
        "\n",
        "The main difference is that **Explicit** methods solve the next time step using the current or previous time steps in the Force function $\\boldsymbol{\\mathrm{F}}(t,\\boldsymbol{\\mathrm{X}})$ and the next (future) time step on the left-hand-side of the equation.\n",
        "\n",
        "</br>\n",
        "\n",
        "**Implicit** methods use the next (future) time step along with the the current or previous time steps in the Force function $\\boldsymbol{\\mathrm{F}}(t,\\boldsymbol{\\mathrm{X}})$.\n",
        "\n",
        "</br>\n",
        "\n",
        "This means that **Explicit** methods such as **RK45** are much easier and faster to solve (and code). However, their error will accumulate and become larger as time progresses because they are dependent on how accurate the previous steps' solution was. Therefore, the accuracy of your solution depends on how many and how small steps you take!\n",
        "\n",
        "On the other hand, **Implicit** methods can be **unconditionally stable** allowing you get an accurate solution without dependence on how long the simulation is or how small the time steps are. However, they highly depend on the initial conditions and initial guess of the solution!\n",
        "\n",
        "</br>"
      ],
      "metadata": {
        "id": "lp-2ckq7S-NH"
      }
    },
    {
      "cell_type": "code",
      "source": [
        "# TODO: Use solve_ivp to solve orbit_eqn using our initial conditions X0\n",
        "solution = solve_ivp(orbit_eqn, (t0, tf), X2, method='Radau')\n",
        "\n",
        "\n",
        "# Get the solution arrays\n",
        "x, y, vx, vy = solution.y"
      ],
      "metadata": {
        "id": "UOu3TAiq7f4i"
      },
      "execution_count": 8,
      "outputs": []
    },
    {
      "cell_type": "code",
      "source": [
        "# Plot the orbit\n",
        "fig, ax = plt.subplots(figsize=[6, 6])\n",
        "ax.plot(x / AU, y / AU, label='Orbit Trajectory')\n",
        "\n",
        "ax.plot([0.0], [0.0], 'o', label='Star')\n",
        "ax.set(xlabel='$x$ (AU)', ylabel='$y$ (AU)', xlim=[-3, 3], ylim=[-3, 3])\n",
        "ax.legend()\n",
        "plt.savefig('./kepler_example_orbit.pdf')\n",
        "plt.show()"
      ],
      "metadata": {
        "id": "Bu6QZh1xJwdk",
        "colab": {
          "base_uri": "https://localhost:8080/",
          "height": 549
        },
        "outputId": "d18054b1-bbd9-4207-c9c1-e762cb003574"
      },
      "execution_count": 9,
      "outputs": [
        {
          "output_type": "display_data",
          "data": {
            "text/plain": [
              "<Figure size 600x600 with 1 Axes>"
            ],
            "image/png": "[encoded data removed]"
          },
          "metadata": {}
        }
      ]
    },
    {
      "cell_type": "markdown",
      "source": [
        "##The lesson ends here! See below for an additional info and a practice problem."
      ],
      "metadata": {
        "id": "0wnqv3Ml2rBl"
      }
    },
    {
      "cell_type": "markdown",
      "source": [
        "##Extra: Kepler's First Law\n",
        "\n",
        "Kepler's First Law states that\n",
        "\n",
        "> All planets move in elliptical orbits, with the sun at one focus.\n",
        "\n",
        "Now check if the orbit is elliptical. The equation of an ellipse is\n",
        "$$ \\frac{x^2}{a^2} + \\frac{y^2}{b^2} = 1 $$\n",
        "where $a$ and $b$ are the semi-minor and semi-major axes respectively. What are $a$ and $b$ for this orbit? The below figure shows what the orbit should look like.\n",
        "\n",
        "<p align=\"center\">\n",
        "  <img width=\"400\" src=\"https://cdn.shopify.com/s/files/1/0093/2298/7617/files/Screenshot_2024-01-05_at_12.24.32_PM_1024x1024.png?v=1704417889\">\n",
        "</p>\n",
        "\n",
        "We will rearrange the above to something that looks like the equation for a straight line and fit to find $a$ and $b$. The $x$ and $y$ in the equation are centred  on the centre of the ellipse but our data is centred on the sun (the ellipse's focus). Make sure to shift your data (only necessary in $x$) to the centre."
      ],
      "metadata": {
        "id": "hS2CtO50DoIb"
      }
    },
    {
      "cell_type": "markdown",
      "source": [
        "To find $a$ and $b$ we need to fit to something that looks like a line $v=mu+c$. We rearrange to get $y^2=b^2−\\frac{b^2}{a^2}x^2$,\n",
        "so if we fit to $v=y^2$ and $u=x^2$ we′ll find $b=\\sqrt{c}$ and $a=\\sqrt{-c/m}$.\n",
        "This is okay because $m$ is negative.\n",
        "\n",
        "We must also shift the coordinates so that the origin is the centre of the ellipse, not the sun (the focus of the ellipse). We find the x coordinate of the centre by finding the x coordinate where y is maximum."
      ],
      "metadata": {
        "id": "mhE52aFsoWNJ"
      }
    },
    {
      "cell_type": "code",
      "source": [
        "# Prepare the data\n",
        "v = y ** 2\n",
        "u = (x - x[np.argmax(y)]) ** 2"
      ],
      "metadata": {
        "id": "BAm6RZwAoSYs"
      },
      "execution_count": 10,
      "outputs": []
    },
    {
      "cell_type": "code",
      "source": [
        "# Perform the fit\n",
        "m, c = np.polyfit(u, v, 1)"
      ],
      "metadata": {
        "id": "ZPp4Sr0Pp_U0"
      },
      "execution_count": 11,
      "outputs": []
    },
    {
      "cell_type": "code",
      "source": [
        "# Getting a and b, in units of AU\n",
        "print(\"a=%.2f AU, b=%.2f AU\" % (np.sqrt(- c / m) / AU, np.sqrt(c) / AU))\n",
        "a, b = np.sqrt(- c / m) / AU, np.sqrt(c) / AU"
      ],
      "metadata": {
        "id": "10YbdGgUqAdf",
        "colab": {
          "base_uri": "https://localhost:8080/"
        },
        "outputId": "07f3ef4a-f764-4b85-ba6f-6d18bbaad728"
      },
      "execution_count": 12,
      "outputs": [
        {
          "output_type": "stream",
          "name": "stdout",
          "text": [
            "a=1.61 AU, b=1.49 AU\n"
          ]
        }
      ]
    },
    {
      "cell_type": "markdown",
      "source": [
        "The elliptical orbit for the Kepler's law"
      ],
      "metadata": {
        "id": "sOZSmREXBkqJ"
      }
    },
    {
      "cell_type": "code",
      "source": [
        "# Plot the orbit\n",
        "fig, ax = plt.subplots(figsize=[6, 6])\n",
        "ax.plot(x / AU, y / AU, label='Orbit Trajectory')\n",
        "\n",
        "# Add the semi-minor/major axes as a check\n",
        "ax.plot([x.max() / AU - a, x.max() / AU], [0.0, 0.0], label='$a$')\n",
        "ax.plot([x.max() / AU - a, x.max() / AU - a], [0.0, b], label='$b$')\n",
        "\n",
        "ax.plot([0.0], [0.0], 'o', label='Star')\n",
        "ax.set(xlabel='$x$ (AU)', ylabel='$y$ (AU)', xlim=[-3, 3], ylim=[-3, 3])\n",
        "ax.legend()\n",
        "plt.savefig('./kepler_example_orbit.pdf')\n",
        "plt.show()"
      ],
      "metadata": {
        "id": "m-wtjCcbqDGF",
        "colab": {
          "base_uri": "https://localhost:8080/",
          "height": 549
        },
        "outputId": "e077b05f-0ca9-4140-8ff5-a62eb3a29695"
      },
      "execution_count": 13,
      "outputs": [
        {
          "output_type": "display_data",
          "data": {
            "text/plain": [
              "<Figure size 600x600 with 1 Axes>"
            ],
            "image/png": "[encoded data removed]"
          },
          "metadata": {}
        }
      ]
    },
    {
      "cell_type": "markdown",
      "source": [
        "We used this reference: https://pyproblems.github.io/book/mech3Q.html"
      ],
      "metadata": {
        "id": "pQfr0gcXA_ew"
      }
    },
    {
      "cell_type": "markdown",
      "source": [
        "# Homework problem! Project 3: Varying Mass, Rocket Problem. Let's go to the moon!\n",
        "\n",
        "<p align=\"center\">\n",
        "  <img width=\"400\" src=\"https://airandspace.si.edu/sites/default/files/images/editoral-stories/thumbnails/hidden-figures-poster.jpg\">\n",
        "</p>"
      ],
      "metadata": {
        "id": "9_R2jFrpjgNd"
      }
    },
    {
      "cell_type": "markdown",
      "source": [
        "## Who's that rocket??\n",
        "\n",
        "\n",
        "\n",
        "\n",
        "<p align=\"center\">\n",
        "  <img width=\"400\" src=\"https://upload.wikimedia.org/wikipedia/commons/thumb/1/16/Apollo_11_Launch_-_GPN-2000-000630.jpg/1200px-Apollo_11_Launch_-_GPN-2000-000630.jpg\">\n",
        "</p>\n",
        "\n",
        "\n",
        "\n",
        "You, guessed it! It's the Saturn V rocket. (Used for the Apollo missions)"
      ],
      "metadata": {
        "id": "OtBU1D_kuOeD"
      }
    },
    {
      "cell_type": "markdown",
      "source": [
        "Getting something to leave Earth's gravity is very difficult. However, we can calcaulte how to do it! Our forces at play are"
      ],
      "metadata": {
        "id": "JMzKzTWygrjf"
      }
    },
    {
      "cell_type": "markdown",
      "source": [
        "$$\\begin{align}\n",
        "\\bar{F}_{net} = \\bar{F}_{thrust} +\\bar{F}_{drag}+ \\bar{F}_{gravity}\n",
        "\\tag{6}\n",
        "\\end{align}$$\n",
        "\n",
        "or\n",
        "\n",
        "$$\\begin{align}\n",
        "m(t)\\frac{d\\bar{v}}{dt} = \\bar{F}_{T}(t) +\\bar{F}_{D}(|\\bar{v}|)+ \\bar{F}_{G}(\\bar{r},t)\n",
        "\\tag{7}\n",
        "\\end{align}$$\n",
        "\n",
        "Thrust:\n",
        "\n",
        "$$\\begin{align}\n",
        "\\bar{F}_{T}(t) =  -g_0 I_{sp} \\frac{d m}{dt} \\hat{v} (t<I_{sp})\n",
        "\\tag{7}\n",
        "\\end{align}$$\n",
        "\n",
        "Drag:\n",
        "\n",
        "$$\\begin{align}\n",
        "\\bar{F}_{D}(|\\bar{v}|) = -\\beta |\\bar{v}|^2 \\hat{v}\n",
        "\\tag{7}\n",
        "\\end{align}$$\n",
        "\n",
        "\n",
        "Gravitational:\n",
        "\n",
        "$$\\begin{align}\n",
        "\\bar{F}_{G}(\\bar{r},t) = m(t) \\: g(r)\\cdot \\hat{r}\n",
        "\\tag{7}\n",
        "\\end{align}$$\n",
        "\n",
        "Where (under the assumption that the burning rate of fuel is constant)\n",
        "\n",
        "$$\\begin{align}\n",
        "g(\\bar{r}) = \\frac{G\\: M_E}{|r|^2}\n",
        "\\tag{7}\n",
        "\\end{align}$$\n",
        "\n",
        "$$\\begin{align}\n",
        "m(t) = m_0 - t\\cdot \\frac{d m}{dt}  \n",
        "\\tag{7}\n",
        "\\end{align}$$\n",
        "\n",
        "$$\\begin{align}\n",
        "\\frac{d m}{dt} = \\frac{|\\bar{F}_{thrust}|}{g_0\\cdot I_{sp}}\n",
        "\\tag{7}\n",
        "\\end{align}$$"
      ],
      "metadata": {
        "id": "vNOTeopKJ6Ss"
      }
    },
    {
      "cell_type": "markdown",
      "source": [
        "#Task: Solve the rocket eqution using \"Radau\" in solve_ivp"
      ],
      "metadata": {
        "id": "c-GXUNkde-gY"
      }
    },
    {
      "cell_type": "code",
      "source": [
        "#This is my attempt at the solution, don't know what's wrong\n",
        "\n",
        "def Rocket(t,X):\n",
        "  m0 = 10 #kg\n",
        "  b = 0.2 * 5**2#30 #kg/m\n",
        "  G = 6.674e-11 #N*m^2/kg^2\n",
        "  RE = 6371000.0 #m\n",
        "  ME = 5.972e24 #Kg\n",
        "  g0 = 9.81 #m/s^2\n",
        "\n",
        "  #Thrust and Velocity of Fuel Expulsion\n",
        "  Ft = 560000 #N\n",
        "  Isp = 304 #s\n",
        "  c = g0*Isp #m/s\n",
        "\n",
        "  # TODO: unpack X\n",
        "\n",
        "  [x, y, vx, vy, m] = X\n",
        "\n",
        "  rhatx = (x)/(np.sqrt(x**2 + y**2))\n",
        "  rhaty = (y)/(np.sqrt(x**2 + y**2))\n",
        "  vhatx = vx/np.sqrt(vx**2 + vy**2)\n",
        "  vhaty = vy/np.sqrt(vx**2 + vy**2)\n",
        "  gr = G*ME/(x**2 + y**2)\n",
        "  mt = m0 - t*Ft/c\n",
        "\n",
        "  # If still have fuel left (at t=1 all fuel is expelled)\n",
        "  if t<Isp:\n",
        "\n",
        "    #TODO: fill in the below\n",
        "    dmdt = -Ft/c\n",
        "    dxdt = vx\n",
        "    dydt = vy\n",
        "    dvxdt = (-c*dmdt*vhatx - b*(vx**2 + vy**2)*vhatx)/mt + gr*rhatx\n",
        "    dvydt = (-c*dmdt*vhaty - b*(vx**2 + vy**2)*vhaty)/mt + gr*rhaty\n",
        "\n",
        "    #Hint for the dvydt and dvxdt: dvdt = -g*T0/vg - 1/(m0*z(t,n))*v**2 *np.sign(v) - 1/z(t, n) * dzdt(t, n)\n",
        "\n",
        "  # If out of fuel\n",
        "  else:\n",
        "\n",
        "    dmdt = 0\n",
        "    dxdt = vx\n",
        "    dydt = vy\n",
        "    dvxdt = (- b*(vx**2 + vy**2)*vhatx)/m0 + gr*rhatx # dmdt is 0\n",
        "    dvydt = (- b*(vx**2 + vy**2)*vhaty)/m0 + gr*rhaty\n",
        "\n",
        "\n",
        "    #Hint for the dvydt and dvxdt: dvdt = -g*T0/vg - 1/(m0*z(t,n))*v**2 *np.sign(v) - 1/z(t, n) * dzdt(t, n)\n",
        "\n",
        "  # If accelerating downwards with negative speed while on the ground (can't go through ground)\n",
        "\n",
        "  if( np.dot(np.array([dvxdt,dvydt]),np.array([x,y])) <0 ):\n",
        "    dxdt=0\n",
        "    dvdt=0\n",
        "  return [dxdt,dydt,dvxdt,dvydt,dmdt]"
      ],
      "metadata": {
        "id": "mTB_13RtI8-V"
      },
      "execution_count": 14,
      "outputs": []
    },
    {
      "cell_type": "code",
      "source": [
        "tspan = np.linspace(0, 5000, 1000)\n",
        "RE = 6371000.0 #m\n",
        "x0 = 0.0\n",
        "y0 = 1+RE\n",
        "vx0 = 1\n",
        "vy0 = 0.5\n",
        "m0 = 46760\n",
        "t0 = 0\n",
        "tf = tspan[-1]\n",
        "X3 = [x0,y0,vx0,vy0,m0]\n",
        "\n",
        "# TODO: Solve differential equation using solve_ivp\n",
        "sol = solve_ivp(Rocket, [t0, tf], X3, t_eval = tspan, rtol = 1e-5, method='Radau')"
      ],
      "metadata": {
        "id": "8oBfNog5I-Fv"
      },
      "execution_count": 15,
      "outputs": []
    },
    {
      "cell_type": "code",
      "source": [
        "plt.scatter(sol.y[0],sol.y[1])"
      ],
      "metadata": {
        "id": "bXYp4EFIKlPK",
        "colab": {
          "base_uri": "https://localhost:8080/",
          "height": 462
        },
        "outputId": "e6d6847e-1abc-4008-c901-e5f6e8369279"
      },
      "execution_count": 16,
      "outputs": [
        {
          "output_type": "execute_result",
          "data": {
            "text/plain": [
              "<matplotlib.collections.PathCollection at 0x7b43c0615490>"
            ]
          },
          "metadata": {},
          "execution_count": 16
        },
        {
          "output_type": "display_data",
          "data": {
            "text/plain": [
              "<Figure size 640x480 with 1 Axes>"
            ],
            "image/png": "[encoded data removed]"
          },
          "metadata": {}
        }
      ]
    },
    {
      "cell_type": "markdown",
      "source": [
        "## Real Answer\n",
        "There is different stuff in this code, like 'mfuel' and 'height_to_space', and the equations for dvxdt and dvydt are different, I don't know where they came from."
      ],
      "metadata": {
        "id": "1Z7eGrt9iTJx"
      }
    },
    {
      "cell_type": "code",
      "source": [
        "def Rocket(t,X):\n",
        "  mfuel = (2214000.0 + 480000.0 + 119000) # mass (kg) rocket dry mass of 36,000 kg and fuel of 480,000 kg\n",
        "  b = 0.5/2.0 *1.225 * 5**2#30 # drag (kg/m) = c_d * rho * A/2 whre c_d: drage coefficient for a cone, rho: density of air at sea level, A: cross section area of rocket\n",
        "  G = 6.674e-11 #N*m^2/kg^2\n",
        "  RE = 6371000.0 #m\n",
        "  ME = 5.972e24 #Kg#\n",
        "  g0 = 9.81 #m/s^2\n",
        "  height_to_space = 100.0e3 #in space there is no atmospehre to produce drag\n",
        "\n",
        "  #Thrust and Velocity of Fuel Expulsion\n",
        "  Ft = 35500000 #N34,500 kN\n",
        "  Isp = 304 #s\n",
        "  c = g0*Isp #m/s\n",
        "\n",
        "  [x, y, vx, vy, m] = X\n",
        "\n",
        "  rhatx = (x)/(np.sqrt(x**2 + y**2))\n",
        "  rhaty = (y)/(np.sqrt(x**2 + y**2))\n",
        "  vhatx = vx/np.sqrt(vx**2 + vy**2)\n",
        "  vhaty = vy/np.sqrt(vx**2 + vy**2)\n",
        "\n",
        "  vmagnitude2 = vx**2 +vy**2\n",
        "\n",
        "  # If still have fuel left (at t=1 all fuel is expelled)\n",
        "  if t<mfuel/(Ft/c):\n",
        "    dxdt = vx\n",
        "    dydt = vy\n",
        "    dmdt = -Ft/c\n",
        "    dvxdt = -c/m*dmdt*vhatx - b*np.exp(-(x**2+y**2)/height_to_space**2)/m*(vmagnitude2)*vhatx - G*ME/(np.sqrt(x**2+y**2))**2 * rhatx\n",
        "    dvydt = -c/m*dmdt*vhaty - b*np.exp(-(x**2+y**2)/height_to_space**2)/m*(vmagnitude2)*vhaty - G*ME/(np.sqrt(x**2+y**2))**2 * rhaty\n",
        "\n",
        "  # If out of fuel\n",
        "  else:\n",
        "    dmdt = 0.0\n",
        "    dxdt = vx\n",
        "    dydt = vy\n",
        "    dvxdt = -b*np.exp(-(x**2+y**2)/height_to_space**2)/m*(vmagnitude2)*vhatx - G*ME/(np.sqrt(x**2+y**2))**2 * rhatx\n",
        "    dvydt = -b*np.exp(-(x**2+y**2)/height_to_space**2)/m*(vmagnitude2)*vhaty - G*ME/(np.sqrt(x**2+y**2))**2 * rhaty\n",
        "\n",
        "  return [dxdt,dydt,dvxdt,dvydt,dmdt]"
      ],
      "metadata": {
        "id": "mNraKMxsfDux"
      },
      "execution_count": 32,
      "outputs": []
    },
    {
      "cell_type": "code",
      "source": [
        "tspan = np.linspace(0, 300, 100000)\n",
        "\n",
        "RE = 6371000.0 #m\n",
        "x0 = 1+RE\n",
        "y0 = 1+RE\n",
        "vx0 = 1.02\n",
        "vy0 = 1.0\n",
        "m0 = (137000.0 + 36000 + 10000.0) + (2214000.0 + 480000.0 + 119000) # mass (kg) rocket dry mass of 36,000 kg and fuel of 480,000 kg\n",
        "X0 = [x0,y0,vx0,vy0, m0]\n",
        "\n",
        "# %% Solve differential equation\n",
        "sol = solve_ivp(Rocket, [tspan[0], tspan[-1]], X0, t_eval=tspan, rtol = 1e-5, method='Radau')"
      ],
      "metadata": {
        "id": "VCMWN5YEe-1-"
      },
      "execution_count": 34,
      "outputs": []
    },
    {
      "cell_type": "code",
      "source": [
        "# Get the solution arrays\n",
        "x, y, vx, vy, m = sol.y\n",
        "\n",
        "# Plot the orbit\n",
        "fig, ax = plt.subplots(figsize=[6, 6])\n",
        "ax.plot(x, y, '.' , label='Rocket Trajectory')\n",
        "ax.plot(x, y, '.' , label='Start',markevery=[0],color='tab:orange')\n",
        "ax.plot(x, y, '.' , label='End',markevery=[-1],color='tab:red')\n",
        "ax.set(xlabel='$x$ (meters)', ylabel='$y$ (meters)')\n",
        "ax.legend()\n",
        "plt.show()"
      ],
      "metadata": {
        "colab": {
          "base_uri": "https://localhost:8080/",
          "height": 559
        },
        "id": "QivgrOYqhQaL",
        "outputId": "5b0a0e3d-63bb-4e24-b1b9-23400e828025"
      },
      "execution_count": 35,
      "outputs": [
        {
          "output_type": "display_data",
          "data": {
            "text/plain": [
              "<Figure size 600x600 with 1 Axes>"
            ],
            "image/png": "[encoded data removed]"
          },
          "metadata": {}
        }
      ]
    },
    {
      "cell_type": "code",
      "source": [
        "fig, ax = plt.subplots(figsize=[6, 6])\n",
        "ax.plot(vx, vy, '.' , label='Rocket Trajectory')\n",
        "ax.plot(vx, vy, '.' , label='Start',markevery=[0],color='tab:orange')\n",
        "ax.plot(vx, vy, '.' , label='End',markevery=[-1],color='tab:red')\n",
        "plt.legend()\n",
        "ax.set(xlabel='$v_x$ (meters)', ylabel='$v_y$ (meters)')"
      ],
      "metadata": {
        "colab": {
          "base_uri": "https://localhost:8080/",
          "height": 562
        },
        "id": "TPd3cKBuhaxx",
        "outputId": "4cf27ad9-33f0-461a-f038-1350755e6b62"
      },
      "execution_count": 39,
      "outputs": [
        {
          "output_type": "execute_result",
          "data": {
            "text/plain": [
              "[Text(0.5, 0, '$v_x$ (meters)'), Text(0, 0.5, '$v_y$ (meters)')]"
            ]
          },
          "metadata": {},
          "execution_count": 39
        },
        {
          "output_type": "display_data",
          "data": {
            "text/plain": [
              "<Figure size 600x600 with 1 Axes>"
            ],
            "image/png": "[encoded data removed]"
          },
          "metadata": {}
        }
      ]
    },
    {
      "cell_type": "code",
      "source": [
        "fig, ax = plt.subplots(figsize=[6, 6])\n",
        "ax.plot(sol.t, m, '.' , label='Rocket Trajectory')\n",
        "ax.plot(sol.t, m,'.' , label='Start',markevery=[0],color='tab:orange')\n",
        "ax.plot(sol.t, m, '.' , label='End',markevery=[-1],color='tab:red')\n",
        "plt.legend()\n",
        "ax.set(xlabel='$t$ (s)', ylabel='$mass$ (kg)')"
      ],
      "metadata": {
        "colab": {
          "base_uri": "https://localhost:8080/",
          "height": 576
        },
        "id": "Opb00ruCkPg5",
        "outputId": "5f6631ac-1488-4943-b323-473189f65b16"
      },
      "execution_count": 38,
      "outputs": [
        {
          "output_type": "execute_result",
          "data": {
            "text/plain": [
              "[Text(0.5, 0, '$t$ (s)'), Text(0, 0.5, '$mass$ (kg)')]"
            ]
          },
          "metadata": {},
          "execution_count": 38
        },
        {
          "output_type": "display_data",
          "data": {
            "text/plain": [
              "<Figure size 600x600 with 1 Axes>"
            ],
            "image/png": "[encoded data removed]"
          },
          "metadata": {}
        }
      ]
    },
    {
      "cell_type": "code",
      "source": [],
      "metadata": {
        "id": "F_BBonrukSCj"
      },
      "execution_count": null,
      "outputs": []
    }
  ]
}